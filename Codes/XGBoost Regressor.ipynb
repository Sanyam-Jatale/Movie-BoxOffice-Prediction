{
 "cells": [
  {
   "cell_type": "code",
   "execution_count": 1,
   "metadata": {},
   "outputs": [],
   "source": [
    "import numpy as np\n",
    "import pandas as pd\n",
    "import matplotlib.pyplot as plt\n",
    "import seaborn as sns"
   ]
  },
  {
   "cell_type": "code",
   "execution_count": 2,
   "metadata": {},
   "outputs": [
    {
     "data": {
      "text/html": [
       "<div>\n",
       "<style scoped>\n",
       "    .dataframe tbody tr th:only-of-type {\n",
       "        vertical-align: middle;\n",
       "    }\n",
       "\n",
       "    .dataframe tbody tr th {\n",
       "        vertical-align: top;\n",
       "    }\n",
       "\n",
       "    .dataframe thead th {\n",
       "        text-align: right;\n",
       "    }\n",
       "</style>\n",
       "<table border=\"1\" class=\"dataframe\">\n",
       "  <thead>\n",
       "    <tr style=\"text-align: right;\">\n",
       "      <th></th>\n",
       "      <th>color</th>\n",
       "      <th>director_name</th>\n",
       "      <th>num_critic_for_reviews</th>\n",
       "      <th>duration</th>\n",
       "      <th>director_facebook_likes</th>\n",
       "      <th>actor_3_facebook_likes</th>\n",
       "      <th>actor_2_name</th>\n",
       "      <th>actor_1_facebook_likes</th>\n",
       "      <th>gross</th>\n",
       "      <th>genres</th>\n",
       "      <th>...</th>\n",
       "      <th>num_user_for_reviews</th>\n",
       "      <th>language</th>\n",
       "      <th>country</th>\n",
       "      <th>content_rating</th>\n",
       "      <th>budget</th>\n",
       "      <th>title_year</th>\n",
       "      <th>actor_2_facebook_likes</th>\n",
       "      <th>imdb_score</th>\n",
       "      <th>aspect_ratio</th>\n",
       "      <th>movie_facebook_likes</th>\n",
       "    </tr>\n",
       "  </thead>\n",
       "  <tbody>\n",
       "    <tr>\n",
       "      <th>0</th>\n",
       "      <td>Color</td>\n",
       "      <td>James Cameron</td>\n",
       "      <td>723.0</td>\n",
       "      <td>178.0</td>\n",
       "      <td>0.0</td>\n",
       "      <td>855.0</td>\n",
       "      <td>Joel David Moore</td>\n",
       "      <td>1000.0</td>\n",
       "      <td>760505847.0</td>\n",
       "      <td>Action|Adventure|Fantasy|Sci-Fi</td>\n",
       "      <td>...</td>\n",
       "      <td>3054.0</td>\n",
       "      <td>English</td>\n",
       "      <td>USA</td>\n",
       "      <td>PG-13</td>\n",
       "      <td>237000000.0</td>\n",
       "      <td>2009.0</td>\n",
       "      <td>936.0</td>\n",
       "      <td>7.9</td>\n",
       "      <td>1.78</td>\n",
       "      <td>33000</td>\n",
       "    </tr>\n",
       "    <tr>\n",
       "      <th>1</th>\n",
       "      <td>Color</td>\n",
       "      <td>Gore Verbinski</td>\n",
       "      <td>302.0</td>\n",
       "      <td>169.0</td>\n",
       "      <td>563.0</td>\n",
       "      <td>1000.0</td>\n",
       "      <td>Orlando Bloom</td>\n",
       "      <td>40000.0</td>\n",
       "      <td>309404152.0</td>\n",
       "      <td>Action|Adventure|Fantasy</td>\n",
       "      <td>...</td>\n",
       "      <td>1238.0</td>\n",
       "      <td>English</td>\n",
       "      <td>USA</td>\n",
       "      <td>PG-13</td>\n",
       "      <td>300000000.0</td>\n",
       "      <td>2007.0</td>\n",
       "      <td>5000.0</td>\n",
       "      <td>7.1</td>\n",
       "      <td>2.35</td>\n",
       "      <td>0</td>\n",
       "    </tr>\n",
       "    <tr>\n",
       "      <th>2</th>\n",
       "      <td>Color</td>\n",
       "      <td>Sam Mendes</td>\n",
       "      <td>602.0</td>\n",
       "      <td>148.0</td>\n",
       "      <td>0.0</td>\n",
       "      <td>161.0</td>\n",
       "      <td>Rory Kinnear</td>\n",
       "      <td>11000.0</td>\n",
       "      <td>200074175.0</td>\n",
       "      <td>Action|Adventure|Thriller</td>\n",
       "      <td>...</td>\n",
       "      <td>994.0</td>\n",
       "      <td>English</td>\n",
       "      <td>UK</td>\n",
       "      <td>PG-13</td>\n",
       "      <td>245000000.0</td>\n",
       "      <td>2015.0</td>\n",
       "      <td>393.0</td>\n",
       "      <td>6.8</td>\n",
       "      <td>2.35</td>\n",
       "      <td>85000</td>\n",
       "    </tr>\n",
       "    <tr>\n",
       "      <th>3</th>\n",
       "      <td>Color</td>\n",
       "      <td>Christopher Nolan</td>\n",
       "      <td>813.0</td>\n",
       "      <td>164.0</td>\n",
       "      <td>22000.0</td>\n",
       "      <td>23000.0</td>\n",
       "      <td>Christian Bale</td>\n",
       "      <td>27000.0</td>\n",
       "      <td>448130642.0</td>\n",
       "      <td>Action|Thriller</td>\n",
       "      <td>...</td>\n",
       "      <td>2701.0</td>\n",
       "      <td>English</td>\n",
       "      <td>USA</td>\n",
       "      <td>PG-13</td>\n",
       "      <td>250000000.0</td>\n",
       "      <td>2012.0</td>\n",
       "      <td>23000.0</td>\n",
       "      <td>8.5</td>\n",
       "      <td>2.35</td>\n",
       "      <td>164000</td>\n",
       "    </tr>\n",
       "    <tr>\n",
       "      <th>4</th>\n",
       "      <td>NaN</td>\n",
       "      <td>Doug Walker</td>\n",
       "      <td>NaN</td>\n",
       "      <td>NaN</td>\n",
       "      <td>131.0</td>\n",
       "      <td>NaN</td>\n",
       "      <td>Rob Walker</td>\n",
       "      <td>131.0</td>\n",
       "      <td>NaN</td>\n",
       "      <td>Documentary</td>\n",
       "      <td>...</td>\n",
       "      <td>NaN</td>\n",
       "      <td>NaN</td>\n",
       "      <td>NaN</td>\n",
       "      <td>NaN</td>\n",
       "      <td>NaN</td>\n",
       "      <td>NaN</td>\n",
       "      <td>12.0</td>\n",
       "      <td>7.1</td>\n",
       "      <td>NaN</td>\n",
       "      <td>0</td>\n",
       "    </tr>\n",
       "    <tr>\n",
       "      <th>...</th>\n",
       "      <td>...</td>\n",
       "      <td>...</td>\n",
       "      <td>...</td>\n",
       "      <td>...</td>\n",
       "      <td>...</td>\n",
       "      <td>...</td>\n",
       "      <td>...</td>\n",
       "      <td>...</td>\n",
       "      <td>...</td>\n",
       "      <td>...</td>\n",
       "      <td>...</td>\n",
       "      <td>...</td>\n",
       "      <td>...</td>\n",
       "      <td>...</td>\n",
       "      <td>...</td>\n",
       "      <td>...</td>\n",
       "      <td>...</td>\n",
       "      <td>...</td>\n",
       "      <td>...</td>\n",
       "      <td>...</td>\n",
       "      <td>...</td>\n",
       "    </tr>\n",
       "    <tr>\n",
       "      <th>5038</th>\n",
       "      <td>Color</td>\n",
       "      <td>Scott Smith</td>\n",
       "      <td>1.0</td>\n",
       "      <td>87.0</td>\n",
       "      <td>2.0</td>\n",
       "      <td>318.0</td>\n",
       "      <td>Daphne Zuniga</td>\n",
       "      <td>637.0</td>\n",
       "      <td>NaN</td>\n",
       "      <td>Comedy|Drama</td>\n",
       "      <td>...</td>\n",
       "      <td>6.0</td>\n",
       "      <td>English</td>\n",
       "      <td>Canada</td>\n",
       "      <td>NaN</td>\n",
       "      <td>NaN</td>\n",
       "      <td>2013.0</td>\n",
       "      <td>470.0</td>\n",
       "      <td>7.7</td>\n",
       "      <td>NaN</td>\n",
       "      <td>84</td>\n",
       "    </tr>\n",
       "    <tr>\n",
       "      <th>5039</th>\n",
       "      <td>Color</td>\n",
       "      <td>NaN</td>\n",
       "      <td>43.0</td>\n",
       "      <td>43.0</td>\n",
       "      <td>NaN</td>\n",
       "      <td>319.0</td>\n",
       "      <td>Valorie Curry</td>\n",
       "      <td>841.0</td>\n",
       "      <td>NaN</td>\n",
       "      <td>Crime|Drama|Mystery|Thriller</td>\n",
       "      <td>...</td>\n",
       "      <td>359.0</td>\n",
       "      <td>English</td>\n",
       "      <td>USA</td>\n",
       "      <td>TV-14</td>\n",
       "      <td>NaN</td>\n",
       "      <td>NaN</td>\n",
       "      <td>593.0</td>\n",
       "      <td>7.5</td>\n",
       "      <td>16.00</td>\n",
       "      <td>32000</td>\n",
       "    </tr>\n",
       "    <tr>\n",
       "      <th>5040</th>\n",
       "      <td>Color</td>\n",
       "      <td>Benjamin Roberds</td>\n",
       "      <td>13.0</td>\n",
       "      <td>76.0</td>\n",
       "      <td>0.0</td>\n",
       "      <td>0.0</td>\n",
       "      <td>Maxwell Moody</td>\n",
       "      <td>0.0</td>\n",
       "      <td>NaN</td>\n",
       "      <td>Drama|Horror|Thriller</td>\n",
       "      <td>...</td>\n",
       "      <td>3.0</td>\n",
       "      <td>English</td>\n",
       "      <td>USA</td>\n",
       "      <td>NaN</td>\n",
       "      <td>1400.0</td>\n",
       "      <td>2013.0</td>\n",
       "      <td>0.0</td>\n",
       "      <td>6.3</td>\n",
       "      <td>NaN</td>\n",
       "      <td>16</td>\n",
       "    </tr>\n",
       "    <tr>\n",
       "      <th>5041</th>\n",
       "      <td>Color</td>\n",
       "      <td>Daniel Hsia</td>\n",
       "      <td>14.0</td>\n",
       "      <td>100.0</td>\n",
       "      <td>0.0</td>\n",
       "      <td>489.0</td>\n",
       "      <td>Daniel Henney</td>\n",
       "      <td>946.0</td>\n",
       "      <td>10443.0</td>\n",
       "      <td>Comedy|Drama|Romance</td>\n",
       "      <td>...</td>\n",
       "      <td>9.0</td>\n",
       "      <td>English</td>\n",
       "      <td>USA</td>\n",
       "      <td>PG-13</td>\n",
       "      <td>NaN</td>\n",
       "      <td>2012.0</td>\n",
       "      <td>719.0</td>\n",
       "      <td>6.3</td>\n",
       "      <td>2.35</td>\n",
       "      <td>660</td>\n",
       "    </tr>\n",
       "    <tr>\n",
       "      <th>5042</th>\n",
       "      <td>Color</td>\n",
       "      <td>Jon Gunn</td>\n",
       "      <td>43.0</td>\n",
       "      <td>90.0</td>\n",
       "      <td>16.0</td>\n",
       "      <td>16.0</td>\n",
       "      <td>Brian Herzlinger</td>\n",
       "      <td>86.0</td>\n",
       "      <td>85222.0</td>\n",
       "      <td>Documentary</td>\n",
       "      <td>...</td>\n",
       "      <td>84.0</td>\n",
       "      <td>English</td>\n",
       "      <td>USA</td>\n",
       "      <td>PG</td>\n",
       "      <td>1100.0</td>\n",
       "      <td>2004.0</td>\n",
       "      <td>23.0</td>\n",
       "      <td>6.6</td>\n",
       "      <td>1.85</td>\n",
       "      <td>456</td>\n",
       "    </tr>\n",
       "  </tbody>\n",
       "</table>\n",
       "<p>5043 rows × 28 columns</p>\n",
       "</div>"
      ],
      "text/plain": [
       "      color      director_name  num_critic_for_reviews  duration  \\\n",
       "0     Color      James Cameron                   723.0     178.0   \n",
       "1     Color     Gore Verbinski                   302.0     169.0   \n",
       "2     Color         Sam Mendes                   602.0     148.0   \n",
       "3     Color  Christopher Nolan                   813.0     164.0   \n",
       "4       NaN        Doug Walker                     NaN       NaN   \n",
       "...     ...                ...                     ...       ...   \n",
       "5038  Color        Scott Smith                     1.0      87.0   \n",
       "5039  Color                NaN                    43.0      43.0   \n",
       "5040  Color   Benjamin Roberds                    13.0      76.0   \n",
       "5041  Color        Daniel Hsia                    14.0     100.0   \n",
       "5042  Color           Jon Gunn                    43.0      90.0   \n",
       "\n",
       "      director_facebook_likes  actor_3_facebook_likes      actor_2_name  \\\n",
       "0                         0.0                   855.0  Joel David Moore   \n",
       "1                       563.0                  1000.0     Orlando Bloom   \n",
       "2                         0.0                   161.0      Rory Kinnear   \n",
       "3                     22000.0                 23000.0    Christian Bale   \n",
       "4                       131.0                     NaN        Rob Walker   \n",
       "...                       ...                     ...               ...   \n",
       "5038                      2.0                   318.0     Daphne Zuniga   \n",
       "5039                      NaN                   319.0     Valorie Curry   \n",
       "5040                      0.0                     0.0     Maxwell Moody   \n",
       "5041                      0.0                   489.0     Daniel Henney   \n",
       "5042                     16.0                    16.0  Brian Herzlinger   \n",
       "\n",
       "      actor_1_facebook_likes        gross                           genres  \\\n",
       "0                     1000.0  760505847.0  Action|Adventure|Fantasy|Sci-Fi   \n",
       "1                    40000.0  309404152.0         Action|Adventure|Fantasy   \n",
       "2                    11000.0  200074175.0        Action|Adventure|Thriller   \n",
       "3                    27000.0  448130642.0                  Action|Thriller   \n",
       "4                      131.0          NaN                      Documentary   \n",
       "...                      ...          ...                              ...   \n",
       "5038                   637.0          NaN                     Comedy|Drama   \n",
       "5039                   841.0          NaN     Crime|Drama|Mystery|Thriller   \n",
       "5040                     0.0          NaN            Drama|Horror|Thriller   \n",
       "5041                   946.0      10443.0             Comedy|Drama|Romance   \n",
       "5042                    86.0      85222.0                      Documentary   \n",
       "\n",
       "      ... num_user_for_reviews language  country  content_rating       budget  \\\n",
       "0     ...               3054.0  English      USA           PG-13  237000000.0   \n",
       "1     ...               1238.0  English      USA           PG-13  300000000.0   \n",
       "2     ...                994.0  English       UK           PG-13  245000000.0   \n",
       "3     ...               2701.0  English      USA           PG-13  250000000.0   \n",
       "4     ...                  NaN      NaN      NaN             NaN          NaN   \n",
       "...   ...                  ...      ...      ...             ...          ...   \n",
       "5038  ...                  6.0  English   Canada             NaN          NaN   \n",
       "5039  ...                359.0  English      USA           TV-14          NaN   \n",
       "5040  ...                  3.0  English      USA             NaN       1400.0   \n",
       "5041  ...                  9.0  English      USA           PG-13          NaN   \n",
       "5042  ...                 84.0  English      USA              PG       1100.0   \n",
       "\n",
       "      title_year actor_2_facebook_likes imdb_score  aspect_ratio  \\\n",
       "0         2009.0                  936.0        7.9          1.78   \n",
       "1         2007.0                 5000.0        7.1          2.35   \n",
       "2         2015.0                  393.0        6.8          2.35   \n",
       "3         2012.0                23000.0        8.5          2.35   \n",
       "4            NaN                   12.0        7.1           NaN   \n",
       "...          ...                    ...        ...           ...   \n",
       "5038      2013.0                  470.0        7.7           NaN   \n",
       "5039         NaN                  593.0        7.5         16.00   \n",
       "5040      2013.0                    0.0        6.3           NaN   \n",
       "5041      2012.0                  719.0        6.3          2.35   \n",
       "5042      2004.0                   23.0        6.6          1.85   \n",
       "\n",
       "     movie_facebook_likes  \n",
       "0                   33000  \n",
       "1                       0  \n",
       "2                   85000  \n",
       "3                  164000  \n",
       "4                       0  \n",
       "...                   ...  \n",
       "5038                   84  \n",
       "5039                32000  \n",
       "5040                   16  \n",
       "5041                  660  \n",
       "5042                  456  \n",
       "\n",
       "[5043 rows x 28 columns]"
      ]
     },
     "execution_count": 2,
     "metadata": {},
     "output_type": "execute_result"
    }
   ],
   "source": [
    "imdb = pd.read_csv('movie_metadata.csv')\n",
    "imdb"
   ]
  },
  {
   "cell_type": "code",
   "execution_count": 3,
   "metadata": {},
   "outputs": [
    {
     "data": {
      "text/plain": [
       "color                         19\n",
       "director_name                104\n",
       "num_critic_for_reviews        50\n",
       "duration                      15\n",
       "director_facebook_likes      104\n",
       "actor_3_facebook_likes        23\n",
       "actor_2_name                  13\n",
       "actor_1_facebook_likes         7\n",
       "gross                        884\n",
       "genres                         0\n",
       "actor_1_name                   7\n",
       "movie_title                    0\n",
       "num_voted_users                0\n",
       "cast_total_facebook_likes      0\n",
       "actor_3_name                  23\n",
       "facenumber_in_poster          13\n",
       "plot_keywords                153\n",
       "movie_imdb_link                0\n",
       "num_user_for_reviews          21\n",
       "language                      12\n",
       "country                        5\n",
       "content_rating               303\n",
       "budget                       492\n",
       "title_year                   108\n",
       "actor_2_facebook_likes        13\n",
       "imdb_score                     0\n",
       "aspect_ratio                 329\n",
       "movie_facebook_likes           0\n",
       "dtype: int64"
      ]
     },
     "execution_count": 3,
     "metadata": {},
     "output_type": "execute_result"
    }
   ],
   "source": [
    "imdb.isnull().sum()"
   ]
  },
  {
   "cell_type": "code",
   "execution_count": 4,
   "metadata": {},
   "outputs": [],
   "source": [
    "#Distributing columns to Numerical and Categorical\n",
    "Num_col = [column for column in imdb.columns if imdb[column].dtype != 'object']\n",
    "Cat_col = [column for column in imdb.columns if imdb[column].dtype == 'object']"
   ]
  },
  {
   "cell_type": "code",
   "execution_count": 5,
   "metadata": {},
   "outputs": [
    {
     "data": {
      "text/plain": [
       "['num_critic_for_reviews',\n",
       " 'duration',\n",
       " 'director_facebook_likes',\n",
       " 'actor_3_facebook_likes',\n",
       " 'actor_1_facebook_likes',\n",
       " 'gross',\n",
       " 'num_voted_users',\n",
       " 'cast_total_facebook_likes',\n",
       " 'facenumber_in_poster',\n",
       " 'num_user_for_reviews',\n",
       " 'budget',\n",
       " 'title_year',\n",
       " 'actor_2_facebook_likes',\n",
       " 'imdb_score',\n",
       " 'aspect_ratio',\n",
       " 'movie_facebook_likes']"
      ]
     },
     "execution_count": 5,
     "metadata": {},
     "output_type": "execute_result"
    }
   ],
   "source": [
    "Num_col"
   ]
  },
  {
   "cell_type": "code",
   "execution_count": 6,
   "metadata": {},
   "outputs": [
    {
     "data": {
      "text/plain": [
       "['color',\n",
       " 'director_name',\n",
       " 'actor_2_name',\n",
       " 'genres',\n",
       " 'actor_1_name',\n",
       " 'movie_title',\n",
       " 'actor_3_name',\n",
       " 'plot_keywords',\n",
       " 'movie_imdb_link',\n",
       " 'language',\n",
       " 'country',\n",
       " 'content_rating']"
      ]
     },
     "execution_count": 6,
     "metadata": {},
     "output_type": "execute_result"
    }
   ],
   "source": [
    "Cat_col"
   ]
  },
  {
   "cell_type": "code",
   "execution_count": 7,
   "metadata": {},
   "outputs": [],
   "source": [
    "imdb = imdb.drop(columns=['color','director_name','actor_2_name','language','actor_1_name','movie_title','actor_3_name','plot_keywords','movie_imdb_link','content_rating'], axis = 1)"
   ]
  },
  {
   "cell_type": "code",
   "execution_count": 8,
   "metadata": {},
   "outputs": [],
   "source": [
    "# Filling missing values\n",
    "\n",
    "imdb['duration'].fillna(imdb['duration'].mean(), inplace=True)\n",
    "imdb['num_critic_for_reviews'].fillna(imdb['num_critic_for_reviews'].mean(), inplace=True)\n",
    "imdb['director_facebook_likes'].fillna(imdb['director_facebook_likes'].mean(), inplace=True)\n",
    "imdb['actor_3_facebook_likes'].fillna(imdb['actor_3_facebook_likes'].mean(), inplace=True)\n",
    "imdb['actor_1_facebook_likes'].fillna(imdb['actor_1_facebook_likes'].mean(), inplace=True)\n",
    "imdb['gross'].fillna(imdb['gross'].mean(), inplace=True)\n",
    "imdb['num_voted_users'].fillna(imdb['num_voted_users'].mean(), inplace=True)\n",
    "imdb['cast_total_facebook_likes'].fillna(imdb['cast_total_facebook_likes'].mean(), inplace=True)\n",
    "imdb['facenumber_in_poster'].fillna(imdb['facenumber_in_poster'].mean(), inplace=True)\n",
    "imdb['num_user_for_reviews'].fillna(imdb['num_user_for_reviews'].mean(), inplace=True)\n",
    "imdb['budget'].fillna(imdb['budget'].mean(), inplace=True)\n",
    "imdb['title_year'].fillna(imdb['title_year'].mean(), inplace=True)\n",
    "imdb['actor_2_facebook_likes'].fillna(imdb['actor_2_facebook_likes'].mean(), inplace=True)\n",
    "imdb['imdb_score'].fillna(imdb['imdb_score'].mean(), inplace=True)\n",
    "imdb['movie_facebook_likes'].fillna(imdb['movie_facebook_likes'].mean(), inplace=True)\n",
    "imdb['aspect_ratio'].fillna(imdb['aspect_ratio'].mean(), inplace=True)"
   ]
  },
  {
   "cell_type": "code",
   "execution_count": 9,
   "metadata": {},
   "outputs": [],
   "source": [
    "#Modifying genres columns\n",
    "imdb['genres'] = imdb['genres'].str.replace('|', ',')"
   ]
  },
  {
   "cell_type": "code",
   "execution_count": 10,
   "metadata": {},
   "outputs": [
    {
     "data": {
      "text/plain": [
       "num_critic_for_reviews       0\n",
       "duration                     0\n",
       "director_facebook_likes      0\n",
       "actor_3_facebook_likes       0\n",
       "actor_1_facebook_likes       0\n",
       "gross                        0\n",
       "genres                       0\n",
       "num_voted_users              0\n",
       "cast_total_facebook_likes    0\n",
       "facenumber_in_poster         0\n",
       "num_user_for_reviews         0\n",
       "country                      5\n",
       "budget                       0\n",
       "title_year                   0\n",
       "actor_2_facebook_likes       0\n",
       "imdb_score                   0\n",
       "aspect_ratio                 0\n",
       "movie_facebook_likes         0\n",
       "dtype: int64"
      ]
     },
     "execution_count": 10,
     "metadata": {},
     "output_type": "execute_result"
    }
   ],
   "source": [
    "imdb.isnull().sum()"
   ]
  },
  {
   "cell_type": "code",
   "execution_count": 11,
   "metadata": {},
   "outputs": [
    {
     "data": {
      "text/plain": [
       "(5043, 18)"
      ]
     },
     "execution_count": 11,
     "metadata": {},
     "output_type": "execute_result"
    }
   ],
   "source": [
    "imdb.shape"
   ]
  },
  {
   "cell_type": "code",
   "execution_count": 12,
   "metadata": {},
   "outputs": [
    {
     "data": {
      "text/html": [
       "<div>\n",
       "<style scoped>\n",
       "    .dataframe tbody tr th:only-of-type {\n",
       "        vertical-align: middle;\n",
       "    }\n",
       "\n",
       "    .dataframe tbody tr th {\n",
       "        vertical-align: top;\n",
       "    }\n",
       "\n",
       "    .dataframe thead th {\n",
       "        text-align: right;\n",
       "    }\n",
       "</style>\n",
       "<table border=\"1\" class=\"dataframe\">\n",
       "  <thead>\n",
       "    <tr style=\"text-align: right;\">\n",
       "      <th></th>\n",
       "      <th>num_critic_for_reviews</th>\n",
       "      <th>duration</th>\n",
       "      <th>director_facebook_likes</th>\n",
       "      <th>actor_3_facebook_likes</th>\n",
       "      <th>actor_1_facebook_likes</th>\n",
       "      <th>gross</th>\n",
       "      <th>genres</th>\n",
       "      <th>num_voted_users</th>\n",
       "      <th>cast_total_facebook_likes</th>\n",
       "      <th>facenumber_in_poster</th>\n",
       "      <th>num_user_for_reviews</th>\n",
       "      <th>country</th>\n",
       "      <th>budget</th>\n",
       "      <th>title_year</th>\n",
       "      <th>actor_2_facebook_likes</th>\n",
       "      <th>imdb_score</th>\n",
       "      <th>aspect_ratio</th>\n",
       "      <th>movie_facebook_likes</th>\n",
       "    </tr>\n",
       "  </thead>\n",
       "  <tbody>\n",
       "    <tr>\n",
       "      <th>0</th>\n",
       "      <td>723.0</td>\n",
       "      <td>178.0</td>\n",
       "      <td>0.000000</td>\n",
       "      <td>855.0</td>\n",
       "      <td>1000.0</td>\n",
       "      <td>7.605058e+08</td>\n",
       "      <td>Action,Adventure,Fantasy,Sci-Fi</td>\n",
       "      <td>886204</td>\n",
       "      <td>4834</td>\n",
       "      <td>0.0</td>\n",
       "      <td>3054.0</td>\n",
       "      <td>USA</td>\n",
       "      <td>2.370000e+08</td>\n",
       "      <td>2009.000000</td>\n",
       "      <td>936.0</td>\n",
       "      <td>7.9</td>\n",
       "      <td>1.780000</td>\n",
       "      <td>33000</td>\n",
       "    </tr>\n",
       "    <tr>\n",
       "      <th>1</th>\n",
       "      <td>302.0</td>\n",
       "      <td>169.0</td>\n",
       "      <td>563.000000</td>\n",
       "      <td>1000.0</td>\n",
       "      <td>40000.0</td>\n",
       "      <td>3.094042e+08</td>\n",
       "      <td>Action,Adventure,Fantasy</td>\n",
       "      <td>471220</td>\n",
       "      <td>48350</td>\n",
       "      <td>0.0</td>\n",
       "      <td>1238.0</td>\n",
       "      <td>USA</td>\n",
       "      <td>3.000000e+08</td>\n",
       "      <td>2007.000000</td>\n",
       "      <td>5000.0</td>\n",
       "      <td>7.1</td>\n",
       "      <td>2.350000</td>\n",
       "      <td>0</td>\n",
       "    </tr>\n",
       "    <tr>\n",
       "      <th>2</th>\n",
       "      <td>602.0</td>\n",
       "      <td>148.0</td>\n",
       "      <td>0.000000</td>\n",
       "      <td>161.0</td>\n",
       "      <td>11000.0</td>\n",
       "      <td>2.000742e+08</td>\n",
       "      <td>Action,Adventure,Thriller</td>\n",
       "      <td>275868</td>\n",
       "      <td>11700</td>\n",
       "      <td>1.0</td>\n",
       "      <td>994.0</td>\n",
       "      <td>UK</td>\n",
       "      <td>2.450000e+08</td>\n",
       "      <td>2015.000000</td>\n",
       "      <td>393.0</td>\n",
       "      <td>6.8</td>\n",
       "      <td>2.350000</td>\n",
       "      <td>85000</td>\n",
       "    </tr>\n",
       "    <tr>\n",
       "      <th>3</th>\n",
       "      <td>813.0</td>\n",
       "      <td>164.0</td>\n",
       "      <td>22000.000000</td>\n",
       "      <td>23000.0</td>\n",
       "      <td>27000.0</td>\n",
       "      <td>4.481306e+08</td>\n",
       "      <td>Action,Thriller</td>\n",
       "      <td>1144337</td>\n",
       "      <td>106759</td>\n",
       "      <td>0.0</td>\n",
       "      <td>2701.0</td>\n",
       "      <td>USA</td>\n",
       "      <td>2.500000e+08</td>\n",
       "      <td>2012.000000</td>\n",
       "      <td>23000.0</td>\n",
       "      <td>8.5</td>\n",
       "      <td>2.350000</td>\n",
       "      <td>164000</td>\n",
       "    </tr>\n",
       "    <tr>\n",
       "      <th>5</th>\n",
       "      <td>462.0</td>\n",
       "      <td>132.0</td>\n",
       "      <td>475.000000</td>\n",
       "      <td>530.0</td>\n",
       "      <td>640.0</td>\n",
       "      <td>7.305868e+07</td>\n",
       "      <td>Action,Adventure,Sci-Fi</td>\n",
       "      <td>212204</td>\n",
       "      <td>1873</td>\n",
       "      <td>1.0</td>\n",
       "      <td>738.0</td>\n",
       "      <td>USA</td>\n",
       "      <td>2.637000e+08</td>\n",
       "      <td>2012.000000</td>\n",
       "      <td>632.0</td>\n",
       "      <td>6.6</td>\n",
       "      <td>2.350000</td>\n",
       "      <td>24000</td>\n",
       "    </tr>\n",
       "    <tr>\n",
       "      <th>...</th>\n",
       "      <td>...</td>\n",
       "      <td>...</td>\n",
       "      <td>...</td>\n",
       "      <td>...</td>\n",
       "      <td>...</td>\n",
       "      <td>...</td>\n",
       "      <td>...</td>\n",
       "      <td>...</td>\n",
       "      <td>...</td>\n",
       "      <td>...</td>\n",
       "      <td>...</td>\n",
       "      <td>...</td>\n",
       "      <td>...</td>\n",
       "      <td>...</td>\n",
       "      <td>...</td>\n",
       "      <td>...</td>\n",
       "      <td>...</td>\n",
       "      <td>...</td>\n",
       "    </tr>\n",
       "    <tr>\n",
       "      <th>5038</th>\n",
       "      <td>1.0</td>\n",
       "      <td>87.0</td>\n",
       "      <td>2.000000</td>\n",
       "      <td>318.0</td>\n",
       "      <td>637.0</td>\n",
       "      <td>4.846841e+07</td>\n",
       "      <td>Comedy,Drama</td>\n",
       "      <td>629</td>\n",
       "      <td>2283</td>\n",
       "      <td>2.0</td>\n",
       "      <td>6.0</td>\n",
       "      <td>Canada</td>\n",
       "      <td>3.975262e+07</td>\n",
       "      <td>2013.000000</td>\n",
       "      <td>470.0</td>\n",
       "      <td>7.7</td>\n",
       "      <td>2.220403</td>\n",
       "      <td>84</td>\n",
       "    </tr>\n",
       "    <tr>\n",
       "      <th>5039</th>\n",
       "      <td>43.0</td>\n",
       "      <td>43.0</td>\n",
       "      <td>686.509212</td>\n",
       "      <td>319.0</td>\n",
       "      <td>841.0</td>\n",
       "      <td>4.846841e+07</td>\n",
       "      <td>Crime,Drama,Mystery,Thriller</td>\n",
       "      <td>73839</td>\n",
       "      <td>1753</td>\n",
       "      <td>1.0</td>\n",
       "      <td>359.0</td>\n",
       "      <td>USA</td>\n",
       "      <td>3.975262e+07</td>\n",
       "      <td>2002.470517</td>\n",
       "      <td>593.0</td>\n",
       "      <td>7.5</td>\n",
       "      <td>16.000000</td>\n",
       "      <td>32000</td>\n",
       "    </tr>\n",
       "    <tr>\n",
       "      <th>5040</th>\n",
       "      <td>13.0</td>\n",
       "      <td>76.0</td>\n",
       "      <td>0.000000</td>\n",
       "      <td>0.0</td>\n",
       "      <td>0.0</td>\n",
       "      <td>4.846841e+07</td>\n",
       "      <td>Drama,Horror,Thriller</td>\n",
       "      <td>38</td>\n",
       "      <td>0</td>\n",
       "      <td>0.0</td>\n",
       "      <td>3.0</td>\n",
       "      <td>USA</td>\n",
       "      <td>1.400000e+03</td>\n",
       "      <td>2013.000000</td>\n",
       "      <td>0.0</td>\n",
       "      <td>6.3</td>\n",
       "      <td>2.220403</td>\n",
       "      <td>16</td>\n",
       "    </tr>\n",
       "    <tr>\n",
       "      <th>5041</th>\n",
       "      <td>14.0</td>\n",
       "      <td>100.0</td>\n",
       "      <td>0.000000</td>\n",
       "      <td>489.0</td>\n",
       "      <td>946.0</td>\n",
       "      <td>1.044300e+04</td>\n",
       "      <td>Comedy,Drama,Romance</td>\n",
       "      <td>1255</td>\n",
       "      <td>2386</td>\n",
       "      <td>5.0</td>\n",
       "      <td>9.0</td>\n",
       "      <td>USA</td>\n",
       "      <td>3.975262e+07</td>\n",
       "      <td>2012.000000</td>\n",
       "      <td>719.0</td>\n",
       "      <td>6.3</td>\n",
       "      <td>2.350000</td>\n",
       "      <td>660</td>\n",
       "    </tr>\n",
       "    <tr>\n",
       "      <th>5042</th>\n",
       "      <td>43.0</td>\n",
       "      <td>90.0</td>\n",
       "      <td>16.000000</td>\n",
       "      <td>16.0</td>\n",
       "      <td>86.0</td>\n",
       "      <td>8.522200e+04</td>\n",
       "      <td>Documentary</td>\n",
       "      <td>4285</td>\n",
       "      <td>163</td>\n",
       "      <td>0.0</td>\n",
       "      <td>84.0</td>\n",
       "      <td>USA</td>\n",
       "      <td>1.100000e+03</td>\n",
       "      <td>2004.000000</td>\n",
       "      <td>23.0</td>\n",
       "      <td>6.6</td>\n",
       "      <td>1.850000</td>\n",
       "      <td>456</td>\n",
       "    </tr>\n",
       "  </tbody>\n",
       "</table>\n",
       "<p>5038 rows × 18 columns</p>\n",
       "</div>"
      ],
      "text/plain": [
       "      num_critic_for_reviews  duration  director_facebook_likes  \\\n",
       "0                      723.0     178.0                 0.000000   \n",
       "1                      302.0     169.0               563.000000   \n",
       "2                      602.0     148.0                 0.000000   \n",
       "3                      813.0     164.0             22000.000000   \n",
       "5                      462.0     132.0               475.000000   \n",
       "...                      ...       ...                      ...   \n",
       "5038                     1.0      87.0                 2.000000   \n",
       "5039                    43.0      43.0               686.509212   \n",
       "5040                    13.0      76.0                 0.000000   \n",
       "5041                    14.0     100.0                 0.000000   \n",
       "5042                    43.0      90.0                16.000000   \n",
       "\n",
       "      actor_3_facebook_likes  actor_1_facebook_likes         gross  \\\n",
       "0                      855.0                  1000.0  7.605058e+08   \n",
       "1                     1000.0                 40000.0  3.094042e+08   \n",
       "2                      161.0                 11000.0  2.000742e+08   \n",
       "3                    23000.0                 27000.0  4.481306e+08   \n",
       "5                      530.0                   640.0  7.305868e+07   \n",
       "...                      ...                     ...           ...   \n",
       "5038                   318.0                   637.0  4.846841e+07   \n",
       "5039                   319.0                   841.0  4.846841e+07   \n",
       "5040                     0.0                     0.0  4.846841e+07   \n",
       "5041                   489.0                   946.0  1.044300e+04   \n",
       "5042                    16.0                    86.0  8.522200e+04   \n",
       "\n",
       "                               genres  num_voted_users  \\\n",
       "0     Action,Adventure,Fantasy,Sci-Fi           886204   \n",
       "1            Action,Adventure,Fantasy           471220   \n",
       "2           Action,Adventure,Thriller           275868   \n",
       "3                     Action,Thriller          1144337   \n",
       "5             Action,Adventure,Sci-Fi           212204   \n",
       "...                               ...              ...   \n",
       "5038                     Comedy,Drama              629   \n",
       "5039     Crime,Drama,Mystery,Thriller            73839   \n",
       "5040            Drama,Horror,Thriller               38   \n",
       "5041             Comedy,Drama,Romance             1255   \n",
       "5042                      Documentary             4285   \n",
       "\n",
       "      cast_total_facebook_likes  facenumber_in_poster  num_user_for_reviews  \\\n",
       "0                          4834                   0.0                3054.0   \n",
       "1                         48350                   0.0                1238.0   \n",
       "2                         11700                   1.0                 994.0   \n",
       "3                        106759                   0.0                2701.0   \n",
       "5                          1873                   1.0                 738.0   \n",
       "...                         ...                   ...                   ...   \n",
       "5038                       2283                   2.0                   6.0   \n",
       "5039                       1753                   1.0                 359.0   \n",
       "5040                          0                   0.0                   3.0   \n",
       "5041                       2386                   5.0                   9.0   \n",
       "5042                        163                   0.0                  84.0   \n",
       "\n",
       "     country        budget   title_year  actor_2_facebook_likes  imdb_score  \\\n",
       "0        USA  2.370000e+08  2009.000000                   936.0         7.9   \n",
       "1        USA  3.000000e+08  2007.000000                  5000.0         7.1   \n",
       "2         UK  2.450000e+08  2015.000000                   393.0         6.8   \n",
       "3        USA  2.500000e+08  2012.000000                 23000.0         8.5   \n",
       "5        USA  2.637000e+08  2012.000000                   632.0         6.6   \n",
       "...      ...           ...          ...                     ...         ...   \n",
       "5038  Canada  3.975262e+07  2013.000000                   470.0         7.7   \n",
       "5039     USA  3.975262e+07  2002.470517                   593.0         7.5   \n",
       "5040     USA  1.400000e+03  2013.000000                     0.0         6.3   \n",
       "5041     USA  3.975262e+07  2012.000000                   719.0         6.3   \n",
       "5042     USA  1.100000e+03  2004.000000                    23.0         6.6   \n",
       "\n",
       "      aspect_ratio  movie_facebook_likes  \n",
       "0         1.780000                 33000  \n",
       "1         2.350000                     0  \n",
       "2         2.350000                 85000  \n",
       "3         2.350000                164000  \n",
       "5         2.350000                 24000  \n",
       "...            ...                   ...  \n",
       "5038      2.220403                    84  \n",
       "5039     16.000000                 32000  \n",
       "5040      2.220403                    16  \n",
       "5041      2.350000                   660  \n",
       "5042      1.850000                   456  \n",
       "\n",
       "[5038 rows x 18 columns]"
      ]
     },
     "execution_count": 12,
     "metadata": {},
     "output_type": "execute_result"
    }
   ],
   "source": [
    "imdb.dropna()"
   ]
  },
  {
   "cell_type": "code",
   "execution_count": 13,
   "metadata": {},
   "outputs": [
    {
     "data": {
      "text/plain": [
       "(5043, 18)"
      ]
     },
     "execution_count": 13,
     "metadata": {},
     "output_type": "execute_result"
    }
   ],
   "source": [
    "imdb.shape"
   ]
  },
  {
   "cell_type": "code",
   "execution_count": 14,
   "metadata": {},
   "outputs": [
    {
     "data": {
      "text/plain": [
       "USA                   3807\n",
       "UK                     448\n",
       "France                 154\n",
       "Canada                 126\n",
       "Germany                 97\n",
       "                      ... \n",
       "Finland                  1\n",
       "Nigeria                  1\n",
       "Dominican Republic       1\n",
       "Pakistan                 1\n",
       "Kenya                    1\n",
       "Name: country, Length: 65, dtype: int64"
      ]
     },
     "execution_count": 14,
     "metadata": {},
     "output_type": "execute_result"
    }
   ],
   "source": [
    "imdb['country'].value_counts()"
   ]
  },
  {
   "cell_type": "code",
   "execution_count": 15,
   "metadata": {},
   "outputs": [
    {
     "data": {
      "text/plain": [
       "USA      3807\n",
       "other     788\n",
       "UK        448\n",
       "Name: country, dtype: int64"
      ]
     },
     "execution_count": 15,
     "metadata": {},
     "output_type": "execute_result"
    }
   ],
   "source": [
    "#Replacing other than USA & UK with others\n",
    "countries = ['USA', 'UK']\n",
    "imdb['country'] = imdb['country'].where(imdb['country'].isin(countries), 'other')\n",
    "imdb['country'].value_counts()"
   ]
  },
  {
   "cell_type": "code",
   "execution_count": 16,
   "metadata": {},
   "outputs": [
    {
     "data": {
      "image/png": "[encoded data removed]",
      "text/plain": [
       "<Figure size 1296x1440 with 15 Axes>"
      ]
     },
     "metadata": {
      "needs_background": "light"
     },
     "output_type": "display_data"
    }
   ],
   "source": [
    "fig, ax = plt.subplots(round(len(Num_col) / 3), 3, figsize=(18,20))\n",
    "\n",
    "for i, ax in enumerate(fig.axes):\n",
    "    if i < len(Num_col) - 1:\n",
    "        sns.regplot(x=Num_col[i], y='imdb_score', data=imdb[Num_col],ax=ax, label=Num_col)"
   ]
  },
  {
   "cell_type": "markdown",
   "metadata": {},
   "source": [
    "# Label encoding"
   ]
  },
  {
   "cell_type": "code",
   "execution_count": 17,
   "metadata": {},
   "outputs": [],
   "source": [
    "from sklearn.preprocessing import LabelEncoder\n",
    "le = LabelEncoder()\n",
    "cat_list = ['genres', 'aspect_ratio', 'country']\n",
    "imdb[cat_list] = imdb[cat_list].apply(lambda x:le.fit_transform(x))"
   ]
  },
  {
   "cell_type": "code",
   "execution_count": 18,
   "metadata": {},
   "outputs": [
    {
     "name": "stdout",
     "output_type": "stream",
     "text": [
      "The history saving thread hit an unexpected error (OperationalError('database is locked')).History will not be written to the database.\n"
     ]
    },
    {
     "data": {
      "text/html": [
       "<div>\n",
       "<style scoped>\n",
       "    .dataframe tbody tr th:only-of-type {\n",
       "        vertical-align: middle;\n",
       "    }\n",
       "\n",
       "    .dataframe tbody tr th {\n",
       "        vertical-align: top;\n",
       "    }\n",
       "\n",
       "    .dataframe thead th {\n",
       "        text-align: right;\n",
       "    }\n",
       "</style>\n",
       "<table border=\"1\" class=\"dataframe\">\n",
       "  <thead>\n",
       "    <tr style=\"text-align: right;\">\n",
       "      <th></th>\n",
       "      <th>num_critic_for_reviews</th>\n",
       "      <th>duration</th>\n",
       "      <th>director_facebook_likes</th>\n",
       "      <th>actor_3_facebook_likes</th>\n",
       "      <th>actor_1_facebook_likes</th>\n",
       "      <th>gross</th>\n",
       "      <th>genres</th>\n",
       "      <th>num_voted_users</th>\n",
       "      <th>cast_total_facebook_likes</th>\n",
       "      <th>facenumber_in_poster</th>\n",
       "      <th>num_user_for_reviews</th>\n",
       "      <th>country</th>\n",
       "      <th>budget</th>\n",
       "      <th>title_year</th>\n",
       "      <th>actor_2_facebook_likes</th>\n",
       "      <th>imdb_score</th>\n",
       "      <th>aspect_ratio</th>\n",
       "      <th>movie_facebook_likes</th>\n",
       "    </tr>\n",
       "  </thead>\n",
       "  <tbody>\n",
       "    <tr>\n",
       "      <th>0</th>\n",
       "      <td>723.000000</td>\n",
       "      <td>178.000000</td>\n",
       "      <td>0.0</td>\n",
       "      <td>855.000000</td>\n",
       "      <td>1000.0</td>\n",
       "      <td>7.605058e+08</td>\n",
       "      <td>106</td>\n",
       "      <td>886204</td>\n",
       "      <td>4834</td>\n",
       "      <td>0.0</td>\n",
       "      <td>3054.000000</td>\n",
       "      <td>1</td>\n",
       "      <td>2.370000e+08</td>\n",
       "      <td>2009.000000</td>\n",
       "      <td>936.0</td>\n",
       "      <td>7.9</td>\n",
       "      <td>9</td>\n",
       "      <td>33000</td>\n",
       "    </tr>\n",
       "    <tr>\n",
       "      <th>1</th>\n",
       "      <td>302.000000</td>\n",
       "      <td>169.000000</td>\n",
       "      <td>563.0</td>\n",
       "      <td>1000.000000</td>\n",
       "      <td>40000.0</td>\n",
       "      <td>3.094042e+08</td>\n",
       "      <td>100</td>\n",
       "      <td>471220</td>\n",
       "      <td>48350</td>\n",
       "      <td>0.0</td>\n",
       "      <td>1238.000000</td>\n",
       "      <td>1</td>\n",
       "      <td>3.000000e+08</td>\n",
       "      <td>2007.000000</td>\n",
       "      <td>5000.0</td>\n",
       "      <td>7.1</td>\n",
       "      <td>16</td>\n",
       "      <td>0</td>\n",
       "    </tr>\n",
       "    <tr>\n",
       "      <th>2</th>\n",
       "      <td>602.000000</td>\n",
       "      <td>148.000000</td>\n",
       "      <td>0.0</td>\n",
       "      <td>161.000000</td>\n",
       "      <td>11000.0</td>\n",
       "      <td>2.000742e+08</td>\n",
       "      <td>127</td>\n",
       "      <td>275868</td>\n",
       "      <td>11700</td>\n",
       "      <td>1.0</td>\n",
       "      <td>994.000000</td>\n",
       "      <td>0</td>\n",
       "      <td>2.450000e+08</td>\n",
       "      <td>2015.000000</td>\n",
       "      <td>393.0</td>\n",
       "      <td>6.8</td>\n",
       "      <td>16</td>\n",
       "      <td>85000</td>\n",
       "    </tr>\n",
       "    <tr>\n",
       "      <th>3</th>\n",
       "      <td>813.000000</td>\n",
       "      <td>164.000000</td>\n",
       "      <td>22000.0</td>\n",
       "      <td>23000.000000</td>\n",
       "      <td>27000.0</td>\n",
       "      <td>4.481306e+08</td>\n",
       "      <td>287</td>\n",
       "      <td>1144337</td>\n",
       "      <td>106759</td>\n",
       "      <td>0.0</td>\n",
       "      <td>2701.000000</td>\n",
       "      <td>1</td>\n",
       "      <td>2.500000e+08</td>\n",
       "      <td>2012.000000</td>\n",
       "      <td>23000.0</td>\n",
       "      <td>8.5</td>\n",
       "      <td>16</td>\n",
       "      <td>164000</td>\n",
       "    </tr>\n",
       "    <tr>\n",
       "      <th>4</th>\n",
       "      <td>140.194272</td>\n",
       "      <td>107.201074</td>\n",
       "      <td>131.0</td>\n",
       "      <td>645.009761</td>\n",
       "      <td>131.0</td>\n",
       "      <td>4.846841e+07</td>\n",
       "      <td>753</td>\n",
       "      <td>8</td>\n",
       "      <td>143</td>\n",
       "      <td>0.0</td>\n",
       "      <td>272.770808</td>\n",
       "      <td>2</td>\n",
       "      <td>3.975262e+07</td>\n",
       "      <td>2002.470517</td>\n",
       "      <td>12.0</td>\n",
       "      <td>7.1</td>\n",
       "      <td>14</td>\n",
       "      <td>0</td>\n",
       "    </tr>\n",
       "  </tbody>\n",
       "</table>\n",
       "</div>"
      ],
      "text/plain": [
       "   num_critic_for_reviews    duration  director_facebook_likes  \\\n",
       "0              723.000000  178.000000                      0.0   \n",
       "1              302.000000  169.000000                    563.0   \n",
       "2              602.000000  148.000000                      0.0   \n",
       "3              813.000000  164.000000                  22000.0   \n",
       "4              140.194272  107.201074                    131.0   \n",
       "\n",
       "   actor_3_facebook_likes  actor_1_facebook_likes         gross  genres  \\\n",
       "0              855.000000                  1000.0  7.605058e+08     106   \n",
       "1             1000.000000                 40000.0  3.094042e+08     100   \n",
       "2              161.000000                 11000.0  2.000742e+08     127   \n",
       "3            23000.000000                 27000.0  4.481306e+08     287   \n",
       "4              645.009761                   131.0  4.846841e+07     753   \n",
       "\n",
       "   num_voted_users  cast_total_facebook_likes  facenumber_in_poster  \\\n",
       "0           886204                       4834                   0.0   \n",
       "1           471220                      48350                   0.0   \n",
       "2           275868                      11700                   1.0   \n",
       "3          1144337                     106759                   0.0   \n",
       "4                8                        143                   0.0   \n",
       "\n",
       "   num_user_for_reviews  country        budget   title_year  \\\n",
       "0           3054.000000        1  2.370000e+08  2009.000000   \n",
       "1           1238.000000        1  3.000000e+08  2007.000000   \n",
       "2            994.000000        0  2.450000e+08  2015.000000   \n",
       "3           2701.000000        1  2.500000e+08  2012.000000   \n",
       "4            272.770808        2  3.975262e+07  2002.470517   \n",
       "\n",
       "   actor_2_facebook_likes  imdb_score  aspect_ratio  movie_facebook_likes  \n",
       "0                   936.0         7.9             9                 33000  \n",
       "1                  5000.0         7.1            16                     0  \n",
       "2                   393.0         6.8            16                 85000  \n",
       "3                 23000.0         8.5            16                164000  \n",
       "4                    12.0         7.1            14                     0  "
      ]
     },
     "execution_count": 18,
     "metadata": {},
     "output_type": "execute_result"
    }
   ],
   "source": [
    "imdb.head()"
   ]
  },
  {
   "cell_type": "code",
   "execution_count": 19,
   "metadata": {},
   "outputs": [],
   "source": [
    "#imdb.drop('country', axis=1, inplace=True)"
   ]
  },
  {
   "cell_type": "markdown",
   "metadata": {},
   "source": [
    "## Model Building"
   ]
  },
  {
   "cell_type": "markdown",
   "metadata": {},
   "source": [
    "## Split Dataset"
   ]
  },
  {
   "cell_type": "code",
   "execution_count": 20,
   "metadata": {},
   "outputs": [
    {
     "data": {
      "text/html": [
       "<div>\n",
       "<style scoped>\n",
       "    .dataframe tbody tr th:only-of-type {\n",
       "        vertical-align: middle;\n",
       "    }\n",
       "\n",
       "    .dataframe tbody tr th {\n",
       "        vertical-align: top;\n",
       "    }\n",
       "\n",
       "    .dataframe thead th {\n",
       "        text-align: right;\n",
       "    }\n",
       "</style>\n",
       "<table border=\"1\" class=\"dataframe\">\n",
       "  <thead>\n",
       "    <tr style=\"text-align: right;\">\n",
       "      <th></th>\n",
       "      <th>num_voted_users</th>\n",
       "      <th>num_user_for_reviews</th>\n",
       "      <th>cast_total_facebook_likes</th>\n",
       "      <th>genres</th>\n",
       "      <th>title_year</th>\n",
       "      <th>budget</th>\n",
       "      <th>duration</th>\n",
       "    </tr>\n",
       "  </thead>\n",
       "  <tbody>\n",
       "    <tr>\n",
       "      <th>0</th>\n",
       "      <td>886204</td>\n",
       "      <td>3054.000000</td>\n",
       "      <td>4834</td>\n",
       "      <td>106</td>\n",
       "      <td>2009.000000</td>\n",
       "      <td>2.370000e+08</td>\n",
       "      <td>178.000000</td>\n",
       "    </tr>\n",
       "    <tr>\n",
       "      <th>1</th>\n",
       "      <td>471220</td>\n",
       "      <td>1238.000000</td>\n",
       "      <td>48350</td>\n",
       "      <td>100</td>\n",
       "      <td>2007.000000</td>\n",
       "      <td>3.000000e+08</td>\n",
       "      <td>169.000000</td>\n",
       "    </tr>\n",
       "    <tr>\n",
       "      <th>2</th>\n",
       "      <td>275868</td>\n",
       "      <td>994.000000</td>\n",
       "      <td>11700</td>\n",
       "      <td>127</td>\n",
       "      <td>2015.000000</td>\n",
       "      <td>2.450000e+08</td>\n",
       "      <td>148.000000</td>\n",
       "    </tr>\n",
       "    <tr>\n",
       "      <th>3</th>\n",
       "      <td>1144337</td>\n",
       "      <td>2701.000000</td>\n",
       "      <td>106759</td>\n",
       "      <td>287</td>\n",
       "      <td>2012.000000</td>\n",
       "      <td>2.500000e+08</td>\n",
       "      <td>164.000000</td>\n",
       "    </tr>\n",
       "    <tr>\n",
       "      <th>4</th>\n",
       "      <td>8</td>\n",
       "      <td>272.770808</td>\n",
       "      <td>143</td>\n",
       "      <td>753</td>\n",
       "      <td>2002.470517</td>\n",
       "      <td>3.975262e+07</td>\n",
       "      <td>107.201074</td>\n",
       "    </tr>\n",
       "    <tr>\n",
       "      <th>...</th>\n",
       "      <td>...</td>\n",
       "      <td>...</td>\n",
       "      <td>...</td>\n",
       "      <td>...</td>\n",
       "      <td>...</td>\n",
       "      <td>...</td>\n",
       "      <td>...</td>\n",
       "    </tr>\n",
       "    <tr>\n",
       "      <th>5038</th>\n",
       "      <td>629</td>\n",
       "      <td>6.000000</td>\n",
       "      <td>2283</td>\n",
       "      <td>605</td>\n",
       "      <td>2013.000000</td>\n",
       "      <td>3.975262e+07</td>\n",
       "      <td>87.000000</td>\n",
       "    </tr>\n",
       "    <tr>\n",
       "      <th>5039</th>\n",
       "      <td>73839</td>\n",
       "      <td>359.000000</td>\n",
       "      <td>1753</td>\n",
       "      <td>735</td>\n",
       "      <td>2002.470517</td>\n",
       "      <td>3.975262e+07</td>\n",
       "      <td>43.000000</td>\n",
       "    </tr>\n",
       "    <tr>\n",
       "      <th>5040</th>\n",
       "      <td>38</td>\n",
       "      <td>3.000000</td>\n",
       "      <td>0</td>\n",
       "      <td>823</td>\n",
       "      <td>2013.000000</td>\n",
       "      <td>1.400000e+03</td>\n",
       "      <td>76.000000</td>\n",
       "    </tr>\n",
       "    <tr>\n",
       "      <th>5041</th>\n",
       "      <td>1255</td>\n",
       "      <td>9.000000</td>\n",
       "      <td>2386</td>\n",
       "      <td>638</td>\n",
       "      <td>2012.000000</td>\n",
       "      <td>3.975262e+07</td>\n",
       "      <td>100.000000</td>\n",
       "    </tr>\n",
       "    <tr>\n",
       "      <th>5042</th>\n",
       "      <td>4285</td>\n",
       "      <td>84.000000</td>\n",
       "      <td>163</td>\n",
       "      <td>753</td>\n",
       "      <td>2004.000000</td>\n",
       "      <td>1.100000e+03</td>\n",
       "      <td>90.000000</td>\n",
       "    </tr>\n",
       "  </tbody>\n",
       "</table>\n",
       "<p>5043 rows × 7 columns</p>\n",
       "</div>"
      ],
      "text/plain": [
       "      num_voted_users  num_user_for_reviews  cast_total_facebook_likes  \\\n",
       "0              886204           3054.000000                       4834   \n",
       "1              471220           1238.000000                      48350   \n",
       "2              275868            994.000000                      11700   \n",
       "3             1144337           2701.000000                     106759   \n",
       "4                   8            272.770808                        143   \n",
       "...               ...                   ...                        ...   \n",
       "5038              629              6.000000                       2283   \n",
       "5039            73839            359.000000                       1753   \n",
       "5040               38              3.000000                          0   \n",
       "5041             1255              9.000000                       2386   \n",
       "5042             4285             84.000000                        163   \n",
       "\n",
       "      genres   title_year        budget    duration  \n",
       "0        106  2009.000000  2.370000e+08  178.000000  \n",
       "1        100  2007.000000  3.000000e+08  169.000000  \n",
       "2        127  2015.000000  2.450000e+08  148.000000  \n",
       "3        287  2012.000000  2.500000e+08  164.000000  \n",
       "4        753  2002.470517  3.975262e+07  107.201074  \n",
       "...      ...          ...           ...         ...  \n",
       "5038     605  2013.000000  3.975262e+07   87.000000  \n",
       "5039     735  2002.470517  3.975262e+07   43.000000  \n",
       "5040     823  2013.000000  1.400000e+03   76.000000  \n",
       "5041     638  2012.000000  3.975262e+07  100.000000  \n",
       "5042     753  2004.000000  1.100000e+03   90.000000  \n",
       "\n",
       "[5043 rows x 7 columns]"
      ]
     },
     "execution_count": 20,
     "metadata": {},
     "output_type": "execute_result"
    }
   ],
   "source": [
    "#Dependent variable\n",
    "y = imdb.pop('imdb_score')\n",
    "\n",
    "selected_features = ['num_voted_users', 'num_user_for_reviews',  'cast_total_facebook_likes', 'genres', 'title_year', 'budget','duration']\n",
    "X = imdb[selected_features]\n",
    "X"
   ]
  },
  {
   "cell_type": "code",
   "execution_count": 21,
   "metadata": {},
   "outputs": [
    {
     "name": "stdout",
     "output_type": "stream",
     "text": [
      "(3782, 7)\n",
      "(3782,)\n"
     ]
    }
   ],
   "source": [
    "#Splitting into Test and Train dataset\n",
    "from sklearn.model_selection import train_test_split\n",
    "X_train, X_test, y_train, y_test = train_test_split(X, y, test_size=0.25, random_state=42)\n",
    "print(X_train.shape)\n",
    "print(y_train.shape)"
   ]
  },
  {
   "cell_type": "markdown",
   "metadata": {},
   "source": [
    "## Scaling"
   ]
  },
  {
   "cell_type": "code",
   "execution_count": 22,
   "metadata": {},
   "outputs": [],
   "source": [
    "#Scaling the dependent variables\n",
    "from sklearn.preprocessing import MinMaxScaler\n",
    "sc = MinMaxScaler()\n",
    "X_train = pd.DataFrame(sc.fit_transform(X_train.values), \n",
    "                       columns=X_train.columns, index=X_train.index)\n",
    "X_test = pd.DataFrame(sc.transform(X_test.values), \n",
    "                      columns=X_train.columns, index=X_test.index)"
   ]
  },
  {
   "cell_type": "code",
   "execution_count": 23,
   "metadata": {},
   "outputs": [
    {
     "data": {
      "text/plain": [
       "XGBRegressor(base_score=0.5, booster='gbtree', colsample_bylevel=1,\n",
       "             colsample_bynode=1, colsample_bytree=1, gamma=0, gpu_id=-1,\n",
       "             importance_type='gain', interaction_constraints='',\n",
       "             learning_rate=0.300000012, max_delta_step=0, max_depth=6,\n",
       "             min_child_weight=1, missing=nan, monotone_constraints='()',\n",
       "             n_estimators=100, n_jobs=8, num_parallel_tree=1, random_state=15,\n",
       "             reg_alpha=0, reg_lambda=1, scale_pos_weight=1, subsample=1,\n",
       "             tree_method='exact', validate_parameters=1, verbosity=None)"
      ]
     },
     "execution_count": 23,
     "metadata": {},
     "output_type": "execute_result"
    }
   ],
   "source": [
    "import xgboost as xgb\n",
    "xg_model = xgb.XGBRegressor(random_state=15)\n",
    "xg_model.fit(X_train, y_train)"
   ]
  },
  {
   "cell_type": "code",
   "execution_count": 24,
   "metadata": {},
   "outputs": [
    {
     "data": {
      "text/plain": [
       "array([5.6419706, 7.1888676, 6.393696 , ..., 6.6578403, 5.0831957,\n",
       "       7.0620112], dtype=float32)"
      ]
     },
     "execution_count": 24,
     "metadata": {},
     "output_type": "execute_result"
    }
   ],
   "source": [
    "\n",
    "predictions = xg_model.predict(X_test)\n",
    "predictions"
   ]
  },
  {
   "cell_type": "code",
   "execution_count": 25,
   "metadata": {},
   "outputs": [
    {
     "data": {
      "text/plain": [
       "0.6439428099592869"
      ]
     },
     "execution_count": 25,
     "metadata": {},
     "output_type": "execute_result"
    }
   ],
   "source": [
    "from sklearn.metrics import mean_squared_error \n",
    "mean_squared_error(predictions, y_test.values)"
   ]
  },
  {
   "cell_type": "code",
   "execution_count": 26,
   "metadata": {},
   "outputs": [
    {
     "name": "stdout",
     "output_type": "stream",
     "text": [
      "Mean Absolute Error: 0.56 degrees.\n"
     ]
    }
   ],
   "source": [
    "errors = abs(predictions - y_test)\n",
    "print('Mean Absolute Error:', round(np.mean(errors), 2), 'degrees.')"
   ]
  },
  {
   "cell_type": "code",
   "execution_count": 27,
   "metadata": {},
   "outputs": [
    {
     "name": "stdout",
     "output_type": "stream",
     "text": [
      "Accuracy: 89.32 %.\n"
     ]
    }
   ],
   "source": [
    "mape = 100 * (errors / y_test)\n",
    "accuracy = 100 - np.mean(mape)\n",
    "print('Accuracy:', round(accuracy, 2), '%.')"
   ]
  },
  {
   "cell_type": "code",
   "execution_count": 28,
   "metadata": {},
   "outputs": [
    {
     "data": {
      "text/plain": [
       "0.9384619316246242"
      ]
     },
     "execution_count": 28,
     "metadata": {},
     "output_type": "execute_result"
    }
   ],
   "source": [
    "xg_model.score(X_train, y_train)"
   ]
  },
  {
   "cell_type": "code",
   "execution_count": 29,
   "metadata": {},
   "outputs": [
    {
     "data": {
      "text/plain": [
       "0.513285995799502"
      ]
     },
     "execution_count": 29,
     "metadata": {},
     "output_type": "execute_result"
    }
   ],
   "source": [
    "xg_model.score(X_test, y_test)"
   ]
  },
  {
   "cell_type": "code",
   "execution_count": 30,
   "metadata": {},
   "outputs": [
    {
     "data": {
      "text/plain": [
       "0.513285995799502"
      ]
     },
     "execution_count": 30,
     "metadata": {},
     "output_type": "execute_result"
    }
   ],
   "source": [
    "from sklearn.metrics import r2_score\n",
    "r2_score(y_test, predictions)"
   ]
  },
  {
   "cell_type": "code",
   "execution_count": 31,
   "metadata": {},
   "outputs": [],
   "source": [
    "from sklearn.model_selection import GridSearchCV\n",
    "\n",
    "para_grid = {\n",
    "    'max_depth' : [3, 4],\n",
    "    'learning_rate' : [0.1, 0.01, 0.05],\n",
    "    'n_estimators' : [10,100, 500]\n",
    "}\n",
    "\n",
    "#create a based model\n",
    "model_xgb = xgb.XGBRegressor()\n",
    "#instantiate the grid search model\n",
    "grid_search_xgb = GridSearchCV(estimator = model_xgb, param_grid = para_grid,\n",
    "                               cv=3, n_jobs=4, verbose=3)"
   ]
  },
  {
   "cell_type": "code",
   "execution_count": 32,
   "metadata": {},
   "outputs": [
    {
     "name": "stdout",
     "output_type": "stream",
     "text": [
      "Fitting 3 folds for each of 18 candidates, totalling 54 fits\n"
     ]
    },
    {
     "data": {
      "text/plain": [
       "{'learning_rate': 0.05, 'max_depth': 4, 'n_estimators': 500}"
      ]
     },
     "execution_count": 32,
     "metadata": {},
     "output_type": "execute_result"
    }
   ],
   "source": [
    "grid_search_xgb.fit(X_train, y_train)\n",
    "grid_search_xgb.best_params_"
   ]
  },
  {
   "cell_type": "code",
   "execution_count": 33,
   "metadata": {},
   "outputs": [],
   "source": [
    "y_pred_xgb = grid_search_xgb.predict(X_test)"
   ]
  },
  {
   "cell_type": "code",
   "execution_count": 34,
   "metadata": {},
   "outputs": [
    {
     "data": {
      "text/plain": [
       "0.6115063233716065"
      ]
     },
     "execution_count": 34,
     "metadata": {},
     "output_type": "execute_result"
    }
   ],
   "source": [
    "mean_squared_error(y_test.values, y_pred_xgb)"
   ]
  },
  {
   "cell_type": "code",
   "execution_count": 35,
   "metadata": {},
   "outputs": [
    {
     "name": "stdout",
     "output_type": "stream",
     "text": [
      "Mean Absolute Error: 0.55 degrees.\n"
     ]
    }
   ],
   "source": [
    "errors = abs(y_pred_xgb - y_test)\n",
    "print('Mean Absolute Error:', round(np.mean(errors), 2), 'degrees.')"
   ]
  },
  {
   "cell_type": "code",
   "execution_count": 36,
   "metadata": {},
   "outputs": [
    {
     "name": "stdout",
     "output_type": "stream",
     "text": [
      "Accuracy: 89.49 %.\n"
     ]
    }
   ],
   "source": [
    "mape = 100 * (errors / y_test)\n",
    "accuracy = 100 - np.mean(mape)\n",
    "print('Accuracy:', round(accuracy, 2), '%.')"
   ]
  },
  {
   "cell_type": "code",
   "execution_count": 37,
   "metadata": {},
   "outputs": [
    {
     "data": {
      "text/plain": [
       "0.7877860618866929"
      ]
     },
     "execution_count": 37,
     "metadata": {},
     "output_type": "execute_result"
    }
   ],
   "source": [
    "grid_search_xgb.score(X_train, y_train)"
   ]
  },
  {
   "cell_type": "code",
   "execution_count": 38,
   "metadata": {},
   "outputs": [
    {
     "data": {
      "text/plain": [
       "0.5378026019718479"
      ]
     },
     "execution_count": 38,
     "metadata": {},
     "output_type": "execute_result"
    }
   ],
   "source": [
    "r2_score(y_test.values, y_pred_xgb)"
   ]
  },
  {
   "cell_type": "code",
   "execution_count": 39,
   "metadata": {},
   "outputs": [
    {
     "name": "stdout",
     "output_type": "stream",
     "text": [
      "[8.586017]\n",
      "8.59\n"
     ]
    }
   ],
   "source": [
    "M=4285\n",
    "S=84\n",
    "N=163\n",
    "J=7\n",
    "Y=2004\n",
    "W=1100\n",
    "D=90\n",
    "\n",
    "pp=np.array([[M,S,N,J,Y,W,D]])\n",
    "pred = xg_model.predict(pp)\n",
    "print(pred)\n",
    "result1=round(pred[0],2)\n",
    "print(result1)"
   ]
  },
  {
   "cell_type": "code",
   "execution_count": 40,
   "metadata": {},
   "outputs": [
    {
     "name": "stdout",
     "output_type": "stream",
     "text": [
      "[8.845636]\n"
     ]
    }
   ],
   "source": [
    "M=5464\n",
    "S=321\n",
    "N=654\n",
    "J=4\n",
    "Y=2001\n",
    "W=237000\n",
    "D=178\n",
    "\n",
    "pp=np.array([[M,S,N,J,Y,W,D]])\n",
    "pred = grid_search_xgb.predict(pp)\n",
    "print(pred)"
   ]
  },
  {
   "cell_type": "code",
   "execution_count": null,
   "metadata": {},
   "outputs": [
    {
     "name": "stdout",
     "output_type": "stream",
     "text": [
      "Connecting to wss://anvil.works/uplink\n",
      "Anvil websocket open\n",
      "Connected to \"Default environment (dev)\" as SERVER\n"
     ]
    }
   ],
   "source": [
    "import anvil.server\n",
    "import anvil.media\n",
    "anvil.server.connect(\"GQ3FMMXUD5NBMA33DJL2HBJH-RBKCNQPW2QLXYRU3\")\n",
    "\n",
    "@anvil.server.callable\n",
    "def get_accuracy_xgb_reg():\n",
    "  # Return a file from this local machine\n",
    "  return round(accuracy, 2)\n",
    "\n",
    "@anvil.server.callable\n",
    "def get_imdb_score(pred):\n",
    "  # Return a file from this local machine\n",
    "    votes=pred[0]\n",
    "    review=pred[1]\n",
    "    cast=pred[2]\n",
    "    genre=pred[3]\n",
    "    year=pred[4]\n",
    "    budget=pred[5]\n",
    "    duration= pred[6]\n",
    "    lst=np.array([[votes,review,cast,genre,year,budget,duration]])\n",
    "    res=grid_search_xgb.predict(lst)\n",
    "    result=round(res[0],2)\n",
    "    return result\n",
    "\n",
    "anvil.server.wait_forever()"
   ]
  },
  {
   "cell_type": "code",
   "execution_count": null,
   "metadata": {},
   "outputs": [],
   "source": []
  }
 ],
 "metadata": {
  "kernelspec": {
   "display_name": "Python 3",
   "language": "python",
   "name": "python3"
  },
  "language_info": {
   "codemirror_mode": {
    "name": "ipython",
    "version": 3
   },
   "file_extension": ".py",
   "mimetype": "text/x-python",
   "name": "python",
   "nbconvert_exporter": "python",
   "pygments_lexer": "ipython3",
   "version": "3.7.6"
  }
 },
 "nbformat": 4,
 "nbformat_minor": 4
}
